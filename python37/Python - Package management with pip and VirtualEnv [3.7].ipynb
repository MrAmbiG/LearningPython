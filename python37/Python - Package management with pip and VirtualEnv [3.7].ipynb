{
 "cells": [
  {
   "cell_type": "markdown",
   "metadata": {},
   "source": [
    "# Python - Package management with pip and VirtualEnv [3.7]"
   ]
  },
  {
   "cell_type": "code",
   "execution_count": 2,
   "metadata": {},
   "outputs": [
    {
     "data": {
      "text/html": [
       "\n",
       "        <iframe\n",
       "            width=\"1280\"\n",
       "            height=\"720\"\n",
       "            src=\"https://www.youtube.com/embed/ZTTTl-nT6C4\"\n",
       "            frameborder=\"0\"\n",
       "            allowfullscreen\n",
       "        ></iframe>\n",
       "        "
      ],
      "text/plain": [
       "<IPython.lib.display.IFrame at 0x535b610>"
      ]
     },
     "execution_count": 2,
     "metadata": {},
     "output_type": "execute_result"
    }
   ],
   "source": [
    "from IPython.display import IFrame\n",
    "address=\"https://www.youtube.com/embed/ZTTTl-nT6C4\"\n",
    "IFrame(address, width=\"1280\", height=\"720\")"
   ]
  },
  {
   "cell_type": "markdown",
   "metadata": {},
   "source": [
    "`pip --version`  \n",
    "shows the pip package version. pip comes with the latest version of python."
   ]
  },
  {
   "cell_type": "markdown",
   "metadata": {},
   "source": [
    "`pip install <package name>` install a package.  \n",
    "`pip install <package name>==<package version>` install a spcific version of a package.  \n",
    "`pip uninstall <package name>` uninstalls a package.  "
   ]
  },
  {
   "cell_type": "markdown",
   "metadata": {},
   "source": [
    "example:-  \n",
    "`pip install requests==2.21.0` # install requests package version 2.21.0  \n",
    "`pip install requests>=2.21.0` # install requests package version greater than or equal to 2.21.0  \n",
    "`pip install requests<=2.21.0` # install requests package version lesser than or equal to 2.21.0  \n",
    "`pip install requests~=1.2`    # install version 1.2 and any minor update, but not 2.0"
   ]
  },
  {
   "cell_type": "markdown",
   "metadata": {},
   "source": [
    "`pip freeze` shows the list of packages installed and we cann save this to a text file, typically called 'requirementx.txt'\n",
    "`pip freeze > requirements.txt` "
   ]
  },
  {
   "cell_type": "markdown",
   "metadata": {},
   "source": [
    "One cal also install from the wheel file. Download any of the .whl file from here  \n",
    "https://www.lfd.uci.edu/~gohlke/pythonlibs/  \n",
    "and run `pip install <package name>.whl`  "
   ]
  },
  {
   "cell_type": "markdown",
   "metadata": {},
   "source": [
    "the `venv` module helps us create virtual environments with python. It is pre included with python 3.3+.  \n",
    "`python -m venv <venvname>`  or `virtualenv <venvname>`  \n",
    "is the syntax to create a virtual environment. If you have both python2 and python3 both in your system then you might want to run\n",
    "`python3 -m venv <venvname>`  \n",
    "if you want to create a virtualenvironment for python 3.x.  \n",
    "`.\\venv0\\Scripts\\activate` on windows. On other operating systems it should be similar. You just have to run the activate script located at the <virtual environment name>/scripts/.  \n",
    "Run `deactivate` to deactivate the virtual environment.  "
   ]
  },
  {
   "cell_type": "markdown",
   "metadata": {},
   "source": [
    "Imagine that you are working on multiple projects and all of these projects of few packages which are commong. ex:- All of these projects make use of a python package called django but all projects don't use the same version of django. Some projects use an older version of django and another require the lastest version of the django package. In such cases you can create a virtual environment,  \n",
    "activate it,  \n",
    "install whatever you want in it,  \n",
    "develop your code,  \n",
    "deactivate when you are done.  "
   ]
  },
  {
   "cell_type": "markdown",
   "metadata": {},
   "source": [
    "- you can have multiple virtual environments active in different terminals at the same time.  \n",
    "- you can move, copy or transfer the virtual environment along with your developed code to others and they can activate the  environment and use our project."
   ]
  },
  {
   "cell_type": "code",
   "execution_count": null,
   "metadata": {},
   "outputs": [],
   "source": []
  }
 ],
 "metadata": {
  "kernelspec": {
   "display_name": "Python 3",
   "language": "python",
   "name": "python3"
  },
  "language_info": {
   "codemirror_mode": {
    "name": "ipython",
    "version": 3
   },
   "file_extension": ".py",
   "mimetype": "text/x-python",
   "name": "python",
   "nbconvert_exporter": "python",
   "pygments_lexer": "ipython3",
   "version": "3.7.1"
  }
 },
 "nbformat": 4,
 "nbformat_minor": 2
}
