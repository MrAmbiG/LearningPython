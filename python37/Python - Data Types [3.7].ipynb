{
 "cells": [
  {
   "cell_type": "markdown",
   "metadata": {},
   "source": [
    "##### Immutable   \n",
    "|Data Type|Description|example|\n",
    "|-----|-----|-----|\n",
    "|bool|boolean|True, False|\n",
    "|int|integer|1,2,4|\n",
    "|float|floating point number|0.3,1.8|\n",
    "|tuple|sequence of objects|(1,2,3)|\n",
    "|str|character string|'python','123',\"hey\"|\n",
    "|frozenset|immutable set, sets are by default mutable,frozensets are immutable|frozenset({'batman', 'superman'})|\n",
    "\n",
    "##### Mutable (modifiable. adaptable, adjustable, alterable, changeable, elastic, flexible, fluid, malleable, pliable)  \n",
    "|Data Type|Description|example|\n",
    "|-----|-----|-----|\n",
    "|list|sequence of objects|['batman','catman',3]|\n",
    "|set|collection of unordered, unique items|{'batman', 'superman'}|"
   ]
  },
  {
   "cell_type": "markdown",
   "metadata": {},
   "source": [
    "###### Mutable objects:  \n",
    "list, dict, set, byte array  \n",
    "###### Immutable objects:  \n",
    "int, float, complex, string, tuple, frozen set [note: immutable version of set], bytes"
   ]
  },
  {
   "cell_type": "markdown",
   "metadata": {},
   "source": [
    "**List** is an ordered and mutable/changeable collection (of items) which allows duplicates.  \n",
    "**Tuple** is an ordered and immutable/changeable collection (of items) which allows duplicates.  \n",
    "[OR]  \n",
    "**Tuple** is an immutable list.  \n",
    "**List** is a mutable tuple.  \n",
    "**Set** is an unordered, unindexed collection (of items) which allows no duplicates.  \n",
    "**Dictionary** is an unordered, mutable/changeable, indexed collection (of items) which allows no duplicates.  \n",
    "sequence data types : list, tuple, range"
   ]
  },
  {
   "cell_type": "markdown",
   "metadata": {},
   "source": [
    "Many of the below are applicable to many data types in python. We will look at them when we go through the data types."
   ]
  },
  {
   "cell_type": "markdown",
   "metadata": {},
   "source": [
    "|Function|Description|\n",
    "|-----|-----|\n",
    "|all()|Returns True if all items in the list are True|\n",
    "|any()|Returns True if any item in the list is True|\n",
    "|enumerate()|assign an index to each item in the list and return that key value list|\n",
    "|len()|returns the length of a list|\n",
    "|max()|returns the largest item in the list|\n",
    "|min()|returns the smallest item in the list|\n",
    "|sorted()|returns a sorted list|\n",
    "|list.sort()|sorts a given list|\n",
    "|sum()|returns the sum of all items in a list|\n",
    "|list()|converts data into list|\n",
    "|list.append(x)|appends item x to the end of the list|\n",
    "|list.pop()|pops out the last item of the list|\n",
    "|list.insert(i, x)|inserts element x into the list at index i|\n",
    "|list.copy()|returns a copy of the list|\n",
    "|list.reverse()|reverses the given list|\n",
    "|list.remove(x)|removes the item x from the list|\n",
    "|list.count(x)|counts the number of times x has appeared in the list|\n",
    "|list.index(x)|returns the index of the 1st occurences of the item x|\n",
    "|list(collection)|converts a collection into a list|\n",
    "|list.extend(collection)|appends a given collection to the end of the list|"
   ]
  },
  {
   "cell_type": "markdown",
   "metadata": {},
   "source": [
    "##### Python Casting"
   ]
  },
  {
   "cell_type": "markdown",
   "metadata": {},
   "source": [
    "Casting is specifieng a data type on to a variable. This is done via constructor functions."
   ]
  },
  {
   "cell_type": "code",
   "execution_count": 3,
   "metadata": {},
   "outputs": [],
   "source": [
    "a=2"
   ]
  },
  {
   "cell_type": "code",
   "execution_count": 4,
   "metadata": {},
   "outputs": [
    {
     "data": {
      "text/plain": [
       "2"
      ]
     },
     "execution_count": 4,
     "metadata": {},
     "output_type": "execute_result"
    }
   ],
   "source": [
    "a"
   ]
  },
  {
   "cell_type": "code",
   "execution_count": 5,
   "metadata": {},
   "outputs": [
    {
     "data": {
      "text/plain": [
       "int"
      ]
     },
     "execution_count": 5,
     "metadata": {},
     "output_type": "execute_result"
    }
   ],
   "source": [
    "type(a)"
   ]
  },
  {
   "cell_type": "code",
   "execution_count": 6,
   "metadata": {},
   "outputs": [
    {
     "data": {
      "text/plain": [
       "'2'"
      ]
     },
     "execution_count": 6,
     "metadata": {},
     "output_type": "execute_result"
    }
   ],
   "source": [
    "str(a)"
   ]
  },
  {
   "cell_type": "code",
   "execution_count": 7,
   "metadata": {},
   "outputs": [
    {
     "data": {
      "text/plain": [
       "str"
      ]
     },
     "execution_count": 7,
     "metadata": {},
     "output_type": "execute_result"
    }
   ],
   "source": [
    "type(str(a))"
   ]
  },
  {
   "cell_type": "code",
   "execution_count": 8,
   "metadata": {},
   "outputs": [
    {
     "data": {
      "text/plain": [
       "2.0"
      ]
     },
     "execution_count": 8,
     "metadata": {},
     "output_type": "execute_result"
    }
   ],
   "source": [
    "float(a)"
   ]
  },
  {
   "cell_type": "code",
   "execution_count": 9,
   "metadata": {},
   "outputs": [
    {
     "data": {
      "text/plain": [
       "2"
      ]
     },
     "execution_count": 9,
     "metadata": {},
     "output_type": "execute_result"
    }
   ],
   "source": [
    "int(2.8)"
   ]
  },
  {
   "cell_type": "markdown",
   "metadata": {},
   "source": [
    "|from type|to type|supported|\n",
    "|-----|-----|-----|\n",
    "|int|str|True|\n",
    "|int|float|True|\n",
    "|float|int|True|\n",
    "|float|str|True|\n",
    "|str|int|False|\n",
    "|str|float|False|\n",
    "|str (if string is numeric/integer) |int|True|\n",
    "|str (if string is numeric/integer) |float|True|\n"
   ]
  },
  {
   "cell_type": "code",
   "execution_count": 12,
   "metadata": {},
   "outputs": [],
   "source": [
    "a='2'"
   ]
  },
  {
   "cell_type": "code",
   "execution_count": 13,
   "metadata": {},
   "outputs": [
    {
     "data": {
      "text/plain": [
       "str"
      ]
     },
     "execution_count": 13,
     "metadata": {},
     "output_type": "execute_result"
    }
   ],
   "source": [
    "type(a)"
   ]
  },
  {
   "cell_type": "code",
   "execution_count": 14,
   "metadata": {},
   "outputs": [
    {
     "data": {
      "text/plain": [
       "2"
      ]
     },
     "execution_count": 14,
     "metadata": {},
     "output_type": "execute_result"
    }
   ],
   "source": [
    "int(a)"
   ]
  },
  {
   "cell_type": "code",
   "execution_count": 16,
   "metadata": {},
   "outputs": [],
   "source": [
    "b='python'"
   ]
  },
  {
   "cell_type": "code",
   "execution_count": 17,
   "metadata": {},
   "outputs": [
    {
     "data": {
      "text/plain": [
       "'python'"
      ]
     },
     "execution_count": 17,
     "metadata": {},
     "output_type": "execute_result"
    }
   ],
   "source": [
    "b"
   ]
  },
  {
   "cell_type": "code",
   "execution_count": 18,
   "metadata": {},
   "outputs": [
    {
     "data": {
      "text/plain": [
       "str"
      ]
     },
     "execution_count": 18,
     "metadata": {},
     "output_type": "execute_result"
    }
   ],
   "source": [
    "type(b)"
   ]
  },
  {
   "cell_type": "code",
   "execution_count": 20,
   "metadata": {},
   "outputs": [
    {
     "data": {
      "text/plain": [
       "2.0"
      ]
     },
     "execution_count": 20,
     "metadata": {},
     "output_type": "execute_result"
    }
   ],
   "source": [
    "float('2')"
   ]
  },
  {
   "cell_type": "code",
   "execution_count": null,
   "metadata": {},
   "outputs": [],
   "source": []
  }
 ],
 "metadata": {
  "kernelspec": {
   "display_name": "Python 3",
   "language": "python",
   "name": "python3"
  },
  "language_info": {
   "codemirror_mode": {
    "name": "ipython",
    "version": 3
   },
   "file_extension": ".py",
   "mimetype": "text/x-python",
   "name": "python",
   "nbconvert_exporter": "python",
   "pygments_lexer": "ipython3",
   "version": "3.7.1"
  }
 },
 "nbformat": 4,
 "nbformat_minor": 2
}
