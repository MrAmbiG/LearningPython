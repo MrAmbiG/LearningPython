{
 "cells": [
  {
   "cell_type": "markdown",
   "id": "bfb7277f-94b2-4675-ab16-5f3edb298830",
   "metadata": {},
   "source": [
    "# Use this for practise"
   ]
  },
  {
   "cell_type": "code",
   "execution_count": null,
   "id": "8eadc638-2f20-4013-a32d-ac80fea9e88e",
   "metadata": {},
   "outputs": [],
   "source": []
  }
 ],
 "metadata": {
  "kernelspec": {
   "display_name": "Python 3",
   "language": "python",
   "name": "python3"
  },
  "language_info": {
   "codemirror_mode": {
    "name": "ipython",
    "version": 3
   },
   "file_extension": ".py",
   "mimetype": "text/x-python",
   "name": "python",
   "nbconvert_exporter": "python",
   "pygments_lexer": "ipython3",
   "version": "3.8.8"
  }
 },
 "nbformat": 4,
 "nbformat_minor": 5
}
