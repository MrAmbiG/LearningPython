{
 "cells": [
  {
   "cell_type": "markdown",
   "metadata": {},
   "source": [
    "# Python - Resource or context management [3.7]"
   ]
  },
  {
   "cell_type": "markdown",
   "metadata": {},
   "source": [
    "Python resource management or context management is useful in performing read, write activities on databases, files and handle lock, unlock mechanisms while performing those activities."
   ]
  },
  {
   "cell_type": "markdown",
   "metadata": {},
   "source": [
    "w  write mode  \n",
    "r  read mode  \n",
    "a  append mode  \n",
    "  \n",
    "w+  create file if it doesn't exist and open it in write mode  \n",
    "r+  special read and write mode  \n",
    "a+  create file if it doesn't exist and open it in append mode  "
   ]
  },
  {
   "cell_type": "code",
   "execution_count": null,
   "metadata": {},
   "outputs": [],
   "source": []
  }
 ],
 "metadata": {
  "kernelspec": {
   "display_name": "Python 3",
   "language": "python",
   "name": "python3"
  },
  "language_info": {
   "codemirror_mode": {
    "name": "ipython",
    "version": 3
   },
   "file_extension": ".py",
   "mimetype": "text/x-python",
   "name": "python",
   "nbconvert_exporter": "python",
   "pygments_lexer": "ipython3",
   "version": "3.7.1"
  }
 },
 "nbformat": 4,
 "nbformat_minor": 2
}
