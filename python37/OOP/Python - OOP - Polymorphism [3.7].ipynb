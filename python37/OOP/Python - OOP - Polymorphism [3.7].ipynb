{
 "cells": [
  {
   "cell_type": "markdown",
   "metadata": {},
   "source": [
    "# Python - OOP - Polymorphism [3.7]"
   ]
  },
  {
   "cell_type": "code",
   "execution_count": 16,
   "metadata": {},
   "outputs": [
    {
     "data": {
      "text/html": [
       "\n",
       "        <iframe\n",
       "            width=\"1280\"\n",
       "            height=\"720\"\n",
       "            src=\"https://www.youtube.com/embed/CQxbneuWLOc\"\n",
       "            frameborder=\"0\"\n",
       "            allowfullscreen\n",
       "        ></iframe>\n",
       "        "
      ],
      "text/plain": [
       "<IPython.lib.display.IFrame at 0x5af5810>"
      ]
     },
     "execution_count": 16,
     "metadata": {},
     "output_type": "execute_result"
    }
   ],
   "source": [
    "address=\"https://www.youtube.com/embed/CQxbneuWLOc\"\n",
    "from IPython.display import IFrame\n",
    "IFrame(address, width=\"1280\", height=\"720\")"
   ]
  },
  {
   "cell_type": "code",
   "execution_count": 1,
   "metadata": {},
   "outputs": [],
   "source": [
    "def adder (a,b,c=0):\n",
    "    '''c=0 means if 3rd argument c is not given then assume it to be 0'''\n",
    "    return a+b+c"
   ]
  },
  {
   "cell_type": "markdown",
   "metadata": {},
   "source": [
    "## Polymorphism in class"
   ]
  },
  {
   "cell_type": "code",
   "execution_count": 2,
   "metadata": {},
   "outputs": [],
   "source": [
    "class Batman():\n",
    "    def power(self):\n",
    "        return 'perseverence'\n",
    "    \n",
    "class Superman():\n",
    "    def power(self):\n",
    "        return 'flight'\n",
    "    \n",
    "batObj=Batman()\n",
    "supObj=Superman()"
   ]
  },
  {
   "cell_type": "code",
   "execution_count": 3,
   "metadata": {},
   "outputs": [
    {
     "name": "stdout",
     "output_type": "stream",
     "text": [
      "perseverence\n",
      "flight\n"
     ]
    }
   ],
   "source": [
    "for obj in (batObj, supObj):\n",
    "    print (obj.power())"
   ]
  },
  {
   "cell_type": "markdown",
   "metadata": {},
   "source": [
    "Let us look at another one"
   ]
  },
  {
   "cell_type": "code",
   "execution_count": 4,
   "metadata": {},
   "outputs": [],
   "source": [
    "class english:    \n",
    "    def greeting(self):       \n",
    "        return \"Hello\"\n",
    "            \n",
    "class kannada:    \n",
    "    def greeting(self):\n",
    "        return \"namaste\"\n",
    "      \n",
    "engObj = english()\n",
    "kanObj = kannada()"
   ]
  },
  {
   "cell_type": "code",
   "execution_count": 5,
   "metadata": {},
   "outputs": [
    {
     "name": "stdout",
     "output_type": "stream",
     "text": [
      "Hello\n",
      "namaste\n"
     ]
    }
   ],
   "source": [
    "for obj in (engObj, kanObj):\n",
    "    print (obj.greeting())"
   ]
  },
  {
   "cell_type": "code",
   "execution_count": 6,
   "metadata": {},
   "outputs": [],
   "source": [
    "class Banana():\n",
    "    def color(self):\n",
    "        return('Banana is mostly yellow with some dark patches')\n",
    "    \n",
    "    def shape(self):\n",
    "        return('Banana resembles crescent moon in shape')\n",
    "        \n",
    "    def taste(self):\n",
    "        return('Banana is slightly sweet')\n",
    "        \n",
    "class Coconut():\n",
    "    def color(self):\n",
    "        return('Coconut is brown')\n",
    "    \n",
    "    def shape(self):\n",
    "        return('Coconut is round')\n",
    "        \n",
    "    def taste(self):\n",
    "        return('Coconut is lightly sweet white shell with sweet water inside')"
   ]
  },
  {
   "cell_type": "code",
   "execution_count": 7,
   "metadata": {},
   "outputs": [
    {
     "name": "stdout",
     "output_type": "stream",
     "text": [
      "Banana is mostly yellow with some dark patches\n",
      "Banana resembles crescent moon in shape\n",
      "Banana is slightly sweet\n",
      "Coconut is brown\n",
      "Coconut is round\n",
      "Coconut is lightly sweet white shell with sweet water inside\n"
     ]
    }
   ],
   "source": [
    "obj_ban=Banana()\n",
    "obj_coco=Coconut()\n",
    "for fruit in (obj_ban, obj_coco):\n",
    "    print(fruit.color())\n",
    "    print(fruit.shape())\n",
    "    print(fruit.taste())"
   ]
  },
  {
   "cell_type": "markdown",
   "metadata": {},
   "source": [
    "**Polymorphism with function**"
   ]
  },
  {
   "cell_type": "code",
   "execution_count": 8,
   "metadata": {},
   "outputs": [],
   "source": [
    "def need(hero):\n",
    "    print(hero.power())"
   ]
  },
  {
   "cell_type": "code",
   "execution_count": 9,
   "metadata": {},
   "outputs": [],
   "source": [
    "def greet(language):\n",
    "    print(language.greeting())"
   ]
  },
  {
   "cell_type": "code",
   "execution_count": 10,
   "metadata": {},
   "outputs": [
    {
     "name": "stdout",
     "output_type": "stream",
     "text": [
      "perseverence\n"
     ]
    }
   ],
   "source": [
    "need(batObj)"
   ]
  },
  {
   "cell_type": "code",
   "execution_count": 11,
   "metadata": {},
   "outputs": [
    {
     "name": "stdout",
     "output_type": "stream",
     "text": [
      "flight\n"
     ]
    }
   ],
   "source": [
    "need(supObj)"
   ]
  },
  {
   "cell_type": "code",
   "execution_count": 12,
   "metadata": {},
   "outputs": [
    {
     "name": "stdout",
     "output_type": "stream",
     "text": [
      "namaste\n"
     ]
    }
   ],
   "source": [
    "greet(kanObj)"
   ]
  },
  {
   "cell_type": "code",
   "execution_count": 13,
   "metadata": {},
   "outputs": [
    {
     "name": "stdout",
     "output_type": "stream",
     "text": [
      "Hello\n"
     ]
    }
   ],
   "source": [
    "greet(engObj)"
   ]
  },
  {
   "cell_type": "code",
   "execution_count": 14,
   "metadata": {},
   "outputs": [],
   "source": [
    "def adder (a,b,c=0):\n",
    "    '''c=0 means if 3rd argument c is not given then assume it to be 0'''\n",
    "    return a+b+c"
   ]
  },
  {
   "cell_type": "code",
   "execution_count": 15,
   "metadata": {},
   "outputs": [
    {
     "name": "stdout",
     "output_type": "stream",
     "text": [
      "3\n",
      "6\n"
     ]
    }
   ],
   "source": [
    "print(adder(1,2))\n",
    "print(adder(1,2,3))"
   ]
  },
  {
   "cell_type": "code",
   "execution_count": null,
   "metadata": {},
   "outputs": [],
   "source": []
  }
 ],
 "metadata": {
  "kernelspec": {
   "display_name": "Python 3",
   "language": "python",
   "name": "python3"
  },
  "language_info": {
   "codemirror_mode": {
    "name": "ipython",
    "version": 3
   },
   "file_extension": ".py",
   "mimetype": "text/x-python",
   "name": "python",
   "nbconvert_exporter": "python",
   "pygments_lexer": "ipython3",
   "version": "3.7.1"
  }
 },
 "nbformat": 4,
 "nbformat_minor": 2
}
