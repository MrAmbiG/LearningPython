{
 "cells": [
  {
   "cell_type": "markdown",
   "metadata": {},
   "source": [
    "# Python - OOP - class [3.7]"
   ]
  },
  {
   "cell_type": "markdown",
   "metadata": {},
   "source": [
    "Python is a multi-paradigm programming language. It also supports OOP. __Solving problems programming by creating objects is OOP__ . An object has  \n",
    "- Attributes - are those which define an object.  \n",
    "- Behavior - are those which an object does.  \n",
    "If Batman is an object then his  \n",
    "attributes -> height, age, location, powers...  \n",
    "behaviour -> fight, dance, fly, sing      "
   ]
  },
  {
   "cell_type": "markdown",
   "metadata": {},
   "source": [
    "DRY - Don't Repeat Yourself is the primary focus in python OOP, which emphasises on making the code reusable."
   ]
  },
  {
   "cell_type": "code",
   "execution_count": 1,
   "metadata": {},
   "outputs": [],
   "source": [
    "class Jl:\n",
    "\n",
    "    # class attribute\n",
    "    team = \"Justice League\"\n",
    "\n",
    "    # instance attribute\n",
    "    def __init__(self, name, power):\n",
    "        # __init__() is a constructor of a class. It initiates the class.\n",
    "        self.name = name\n",
    "        self.power = power"
   ]
  },
  {
   "cell_type": "code",
   "execution_count": 2,
   "metadata": {},
   "outputs": [],
   "source": [
    "batman = Jl(\"bruce wayne\", 'perseverance')"
   ]
  },
  {
   "cell_type": "code",
   "execution_count": 3,
   "metadata": {},
   "outputs": [
    {
     "data": {
      "text/plain": [
       "'Justice League'"
      ]
     },
     "execution_count": 3,
     "metadata": {},
     "output_type": "execute_result"
    }
   ],
   "source": [
    "batman.__class__.team"
   ]
  },
  {
   "cell_type": "code",
   "execution_count": 4,
   "metadata": {},
   "outputs": [
    {
     "data": {
      "text/plain": [
       "'Justice League'"
      ]
     },
     "execution_count": 4,
     "metadata": {},
     "output_type": "execute_result"
    }
   ],
   "source": [
    "batman.team"
   ]
  },
  {
   "cell_type": "markdown",
   "metadata": {},
   "source": [
    "Here Jl was a class. __class is a blueprint of the object.__ and an __object is an (instance) instantiation of a class.__ .\n",
    "If floor design of an apartment is a class then each apartment built by that is an object. Each apartment comes with some standard fittings like the type of tiles, water taps, kitchen chimney etc., and they are class attributes. Whoever buys and occupies that apartment is an object and what he brings there (sofa, kitchen items, house utensils etc.,) are all instance attributes.   \n",
    "methods use given data and process it as per pre written instructions(code). It is like your appliances (tv, music player, washing machine) which take input and do something which are pre designed do something. Washing machine takes some clothes and cleans them, just as it is designed to do. A refrigerator takes food items and keeps them cool, just as it is designed to do. Similary a function is designed to take some input, do something and produce some result. A function inside a class is referred as a __method__."
   ]
  },
  {
   "cell_type": "code",
   "execution_count": 6,
   "metadata": {},
   "outputs": [],
   "source": [
    "class Jl:\n",
    "\n",
    "    # class attribute\n",
    "    team = \"Justice League\"\n",
    "\n",
    "    # instance attribute\n",
    "    def __init__(self, name, power, age):\n",
    "        self.name = name\n",
    "        self.power = power\n",
    "        self.age = age\n",
    "        \n",
    "    def fights(self, location):\n",
    "        return f'bad guys at {location}'\n",
    "    \n",
    "    def retired(self):\n",
    "        if self.age > 108:\n",
    "            return True\n",
    "        else:\n",
    "            return False"
   ]
  },
  {
   "cell_type": "code",
   "execution_count": 7,
   "metadata": {},
   "outputs": [],
   "source": [
    "batman=Jl(\"bruce wayne\", 'perseverance', 99)"
   ]
  },
  {
   "cell_type": "code",
   "execution_count": 8,
   "metadata": {},
   "outputs": [
    {
     "data": {
      "text/plain": [
       "'bad guys at gotham'"
      ]
     },
     "execution_count": 8,
     "metadata": {},
     "output_type": "execute_result"
    }
   ],
   "source": [
    "batman.fights('gotham')"
   ]
  },
  {
   "cell_type": "code",
   "execution_count": 9,
   "metadata": {},
   "outputs": [
    {
     "data": {
      "text/plain": [
       "False"
      ]
     },
     "execution_count": 9,
     "metadata": {},
     "output_type": "execute_result"
    }
   ],
   "source": [
    "batman.retired()"
   ]
  },
  {
   "cell_type": "code",
   "execution_count": 10,
   "metadata": {},
   "outputs": [
    {
     "data": {
      "text/plain": [
       "'Justice League'"
      ]
     },
     "execution_count": 10,
     "metadata": {},
     "output_type": "execute_result"
    }
   ],
   "source": [
    "batman.team"
   ]
  },
  {
   "cell_type": "code",
   "execution_count": 11,
   "metadata": {},
   "outputs": [],
   "source": [
    "batman.team='secret league'\n",
    "\n",
    "# udpated the class attribute for batman object. Will it change the blueprint? will it affect other objects?"
   ]
  },
  {
   "cell_type": "code",
   "execution_count": 12,
   "metadata": {},
   "outputs": [
    {
     "data": {
      "text/plain": [
       "'secret league'"
      ]
     },
     "execution_count": 12,
     "metadata": {},
     "output_type": "execute_result"
    }
   ],
   "source": [
    "batman.team"
   ]
  },
  {
   "cell_type": "code",
   "execution_count": 13,
   "metadata": {},
   "outputs": [],
   "source": [
    "superman=Jl(\"clark kent\", 'flight', 101)"
   ]
  },
  {
   "cell_type": "code",
   "execution_count": 14,
   "metadata": {},
   "outputs": [
    {
     "data": {
      "text/plain": [
       "'bad guys at earth'"
      ]
     },
     "execution_count": 14,
     "metadata": {},
     "output_type": "execute_result"
    }
   ],
   "source": [
    "superman.fights('earth')"
   ]
  },
  {
   "cell_type": "code",
   "execution_count": 15,
   "metadata": {},
   "outputs": [
    {
     "data": {
      "text/plain": [
       "False"
      ]
     },
     "execution_count": 15,
     "metadata": {},
     "output_type": "execute_result"
    }
   ],
   "source": [
    "superman.retired()"
   ]
  },
  {
   "cell_type": "code",
   "execution_count": 16,
   "metadata": {},
   "outputs": [
    {
     "data": {
      "text/plain": [
       "'Justice League'"
      ]
     },
     "execution_count": 16,
     "metadata": {},
     "output_type": "execute_result"
    }
   ],
   "source": [
    "superman.team\n",
    "\n",
    "# so the class attribute is unchanged for other objects."
   ]
  }
 ],
 "metadata": {
  "kernelspec": {
   "display_name": "Python 3",
   "language": "python",
   "name": "python3"
  },
  "language_info": {
   "codemirror_mode": {
    "name": "ipython",
    "version": 3
   },
   "file_extension": ".py",
   "mimetype": "text/x-python",
   "name": "python",
   "nbconvert_exporter": "python",
   "pygments_lexer": "ipython3",
   "version": "3.7.1"
  }
 },
 "nbformat": 4,
 "nbformat_minor": 2
}
