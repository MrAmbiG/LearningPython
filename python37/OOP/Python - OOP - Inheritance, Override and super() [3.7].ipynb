{
 "cells": [
  {
   "cell_type": "markdown",
   "metadata": {},
   "source": [
    "# Python - OOP - Inheritance, Override and super() [3.7]"
   ]
  },
  {
   "cell_type": "code",
   "execution_count": 1,
   "metadata": {},
   "outputs": [
    {
     "data": {
      "text/html": [
       "\n",
       "        <iframe\n",
       "            width=\"1280\"\n",
       "            height=\"720\"\n",
       "            src=\"https://www.youtube.com/embed/AJfsJYvwaz8\"\n",
       "            frameborder=\"0\"\n",
       "            allowfullscreen\n",
       "        ></iframe>\n",
       "        "
      ],
      "text/plain": [
       "<IPython.lib.display.IFrame at 0x61fa370>"
      ]
     },
     "execution_count": 1,
     "metadata": {},
     "output_type": "execute_result"
    }
   ],
   "source": [
    "address=\"https://www.youtube.com/embed/AJfsJYvwaz8\"\n",
    "from IPython.display import IFrame\n",
    "IFrame(address, width=\"1280\", height=\"720\")"
   ]
  },
  {
   "cell_type": "markdown",
   "metadata": {},
   "source": [
    "#### Polymorphism with inheritance"
   ]
  },
  {
   "cell_type": "markdown",
   "metadata": {},
   "source": [
    "__Inheritance__ and __override__"
   ]
  },
  {
   "cell_type": "code",
   "execution_count": 1,
   "metadata": {},
   "outputs": [],
   "source": [
    "class Jl:\n",
    "    publisher='dc'\n",
    "    work='heroes'\n",
    "    def __init__(self):\n",
    "        self.team = {'batman':'bat', 'superman':'super', 'flash':'speed', 'aquaman':'aqua', 'wonderwoman':'amazonian'}\n",
    "        \n",
    "    def allheroes(self):\n",
    "        for k,v in (self.team).items():\n",
    "            print(f\"{k} will protect us with {v} power\")\n",
    "            \n",
    "    def teamleader(self):\n",
    "        return f'batman is the teamleader'\n",
    "    \n",
    "    def pub(self):\n",
    "        return f'{self.publisher} is the publisher'\n",
    "    \n",
    "class avengers:\n",
    "    publisher='marvel'\n",
    "    work='heroes'\n",
    "    def __init__(self):\n",
    "        self.team = {'cap':'guidance','ironman':'gadgets','hulk':'strength','thor':'hammer','panther':'claws'}\n",
    "    \n",
    "    def allheroes(self):\n",
    "        for k,v in (self.team).items():\n",
    "            print(f\"{k} will protect us with {v} power\")\n",
    "            \n",
    "    def teamleader(self):\n",
    "        return f'captain america is the teamleader'  \n",
    "    \n",
    "    def pub(self):\n",
    "        return f'{self.publisher} is the publisher'    "
   ]
  },
  {
   "cell_type": "code",
   "execution_count": 2,
   "metadata": {},
   "outputs": [
    {
     "name": "stdout",
     "output_type": "stream",
     "text": [
      "batman will protect us with bat power\n",
      "superman will protect us with super power\n",
      "flash will protect us with speed power\n",
      "aquaman will protect us with aqua power\n",
      "wonderwoman will protect us with amazonian power\n"
     ]
    }
   ],
   "source": [
    "Jl().allheroes()"
   ]
  },
  {
   "cell_type": "code",
   "execution_count": 3,
   "metadata": {},
   "outputs": [
    {
     "name": "stdout",
     "output_type": "stream",
     "text": [
      "cap will protect us with guidance power\n",
      "ironman will protect us with gadgets power\n",
      "hulk will protect us with strength power\n",
      "thor will protect us with hammer power\n",
      "panther will protect us with claws power\n"
     ]
    }
   ],
   "source": [
    "avengers().allheroes()"
   ]
  },
  {
   "cell_type": "code",
   "execution_count": 4,
   "metadata": {},
   "outputs": [
    {
     "data": {
      "text/plain": [
       "'batman is the teamleader'"
      ]
     },
     "execution_count": 4,
     "metadata": {},
     "output_type": "execute_result"
    }
   ],
   "source": [
    "Jl().teamleader()"
   ]
  },
  {
   "cell_type": "code",
   "execution_count": 5,
   "metadata": {},
   "outputs": [
    {
     "data": {
      "text/plain": [
       "'captain america is the teamleader'"
      ]
     },
     "execution_count": 5,
     "metadata": {},
     "output_type": "execute_result"
    }
   ],
   "source": [
    "avengers().teamleader()"
   ]
  },
  {
   "cell_type": "code",
   "execution_count": 6,
   "metadata": {},
   "outputs": [
    {
     "data": {
      "text/plain": [
       "'heroes'"
      ]
     },
     "execution_count": 6,
     "metadata": {},
     "output_type": "execute_result"
    }
   ],
   "source": [
    "Jl().work"
   ]
  },
  {
   "cell_type": "code",
   "execution_count": 7,
   "metadata": {},
   "outputs": [
    {
     "data": {
      "text/plain": [
       "'heroes'"
      ]
     },
     "execution_count": 7,
     "metadata": {},
     "output_type": "execute_result"
    }
   ],
   "source": [
    "avengers().work"
   ]
  },
  {
   "cell_type": "markdown",
   "metadata": {},
   "source": [
    "You can clearly see that *class Jl* and *class avengers* have some code in common. The method allheroes, pub and the attribute work are common in both the classes which means there is a lot of code that is repeated. Python's __inheritance__ will help us here. We can make *class jl* as the parent class of *class avengers* and override only those attributes or methods which are not common or unique to the avengers class."
   ]
  },
  {
   "cell_type": "code",
   "execution_count": 8,
   "metadata": {},
   "outputs": [],
   "source": [
    "class Jl:\n",
    "    publisher='dc'\n",
    "    work='heroes'\n",
    "    \n",
    "    def __init__(self):\n",
    "        self.team = {'batman':'bat', 'superman':'super', 'flash':'speed', 'aquaman':'aqua', 'wonderwoman':'amazonian'}\n",
    "        \n",
    "    def allheroes(self):\n",
    "        for k,v in (self.team).items():\n",
    "            print(f\"{k} will protect us with {v} power\")\n",
    "            \n",
    "    def teamleader(self):\n",
    "        return f'batman is the teamleader'\n",
    "    \n",
    "    def pub(self):\n",
    "        return f'{self.publisher} is the publisher'    \n",
    "    \n",
    "class avengers(Jl):\n",
    "    publisher='marvel'\n",
    "    \n",
    "    def __init__(self):\n",
    "        self.team = {'cap':'guidance','ironman':'gadgets','hulk':'strength','thor':'hammer','panther':'claws'}\n",
    "            \n",
    "    def teamleader(self):\n",
    "        return f'captain america is the teamleader' \n",
    "    "
   ]
  },
  {
   "cell_type": "code",
   "execution_count": 9,
   "metadata": {},
   "outputs": [
    {
     "name": "stdout",
     "output_type": "stream",
     "text": [
      "cap will protect us with guidance power\n",
      "ironman will protect us with gadgets power\n",
      "hulk will protect us with strength power\n",
      "thor will protect us with hammer power\n",
      "panther will protect us with claws power\n"
     ]
    }
   ],
   "source": [
    "avengers().allheroes()"
   ]
  },
  {
   "cell_type": "code",
   "execution_count": 10,
   "metadata": {},
   "outputs": [
    {
     "data": {
      "text/plain": [
       "'captain america is the teamleader'"
      ]
     },
     "execution_count": 10,
     "metadata": {},
     "output_type": "execute_result"
    }
   ],
   "source": [
    "avengers().teamleader()"
   ]
  },
  {
   "cell_type": "code",
   "execution_count": 11,
   "metadata": {},
   "outputs": [
    {
     "data": {
      "text/plain": [
       "'heroes'"
      ]
     },
     "execution_count": 11,
     "metadata": {},
     "output_type": "execute_result"
    }
   ],
   "source": [
    "avengers().work"
   ]
  },
  {
   "cell_type": "code",
   "execution_count": 12,
   "metadata": {},
   "outputs": [
    {
     "data": {
      "text/plain": [
       "'marvel is the publisher'"
      ]
     },
     "execution_count": 12,
     "metadata": {},
     "output_type": "execute_result"
    }
   ],
   "source": [
    "avengers().pub()"
   ]
  },
  {
   "cell_type": "markdown",
   "metadata": {},
   "source": [
    "__super()__ function"
   ]
  },
  {
   "cell_type": "code",
   "execution_count": 13,
   "metadata": {},
   "outputs": [],
   "source": [
    "class avengers(Jl):\n",
    "    publisher='marvel'\n",
    "    \n",
    "    def __init__(self):\n",
    "        self.team = {'cap':'guidance','ironman':'gadgets','hulk':'strength','thor':'hammer','panther':'claws'}\n",
    "        # Let us override this __init__() with the __init__() from it's parent class.\n",
    "        super().__init__()\n",
    "            \n",
    "    def teamleader(self):\n",
    "        return f'captain america is the teamleader' \n",
    "    "
   ]
  },
  {
   "cell_type": "code",
   "execution_count": 14,
   "metadata": {},
   "outputs": [
    {
     "name": "stdout",
     "output_type": "stream",
     "text": [
      "batman will protect us with bat power\n",
      "superman will protect us with super power\n",
      "flash will protect us with speed power\n",
      "aquaman will protect us with aqua power\n",
      "wonderwoman will protect us with amazonian power\n"
     ]
    }
   ],
   "source": [
    "avengers().allheroes()"
   ]
  },
  {
   "cell_type": "code",
   "execution_count": 15,
   "metadata": {},
   "outputs": [],
   "source": [
    "class avengers(Jl):\n",
    "    publisher='marvel'\n",
    "    \n",
    "    def __init__(self):\n",
    "        self.team = {'cap':'guidance','ironman':'gadgets','hulk':'strength','thor':'hammer','panther':'claws'}\n",
    "        # Let us override this __init__() with the __init__() from it's parent class.\n",
    "        super().__init__()\n",
    "            \n",
    "    def teamleader(self):\n",
    "        return super().teamleader()\n",
    "    "
   ]
  },
  {
   "cell_type": "code",
   "execution_count": 16,
   "metadata": {},
   "outputs": [
    {
     "data": {
      "text/plain": [
       "'batman is the teamleader'"
      ]
     },
     "execution_count": 16,
     "metadata": {},
     "output_type": "execute_result"
    }
   ],
   "source": [
    "avengers().teamleader()"
   ]
  },
  {
   "cell_type": "markdown",
   "metadata": {},
   "source": [
    "##### multiple inheritance"
   ]
  },
  {
   "cell_type": "code",
   "execution_count": 17,
   "metadata": {},
   "outputs": [
    {
     "name": "stdout",
     "output_type": "stream",
     "text": [
      "Initializing: class D\n",
      "Initializing: class C\n",
      "Initializing: class B\n",
      "Initializing: class A\n",
      "from class D: 1\n",
      "from class C: 2\n",
      "from class B: 3\n",
      "from class A: 4\n"
     ]
    }
   ],
   "source": [
    "\n",
    "class A:\n",
    "    def __init__(self):\n",
    "        print('Initializing: class A')\n",
    "\n",
    "    def method(self, b):\n",
    "        print('from class A:', b)\n",
    "\n",
    "\n",
    "class B(A):\n",
    "    def __init__(self):\n",
    "        print('Initializing: class B')\n",
    "        super().__init__()\n",
    "\n",
    "    def method(self, b):\n",
    "        print('from class B:', b)\n",
    "        super().method(b + 1)\n",
    "\n",
    "\n",
    "class C(B):\n",
    "    def __init__(self):\n",
    "        print('Initializing: class C')\n",
    "        super().__init__()\n",
    "\n",
    "    def method(self, b):\n",
    "        print('from class C:', b)\n",
    "        super().method(b + 1)\n",
    "\n",
    "class D(C):\n",
    "    def __init__(self):\n",
    "        print('Initializing: class D')\n",
    "        super().__init__()\n",
    "\n",
    "    def method(self, b):\n",
    "        print('from class D:', b)\n",
    "        super().method(b + 1)\n",
    "        \n",
    "if __name__ == '__main__':\n",
    "    d = D()\n",
    "    d.method(1)\n"
   ]
  },
  {
   "cell_type": "markdown",
   "metadata": {},
   "source": [
    "#### Polymorphism with inheritance"
   ]
  },
  {
   "cell_type": "code",
   "execution_count": 18,
   "metadata": {},
   "outputs": [],
   "source": [
    "class Fruit:\n",
    "    def about(self):\n",
    "        return('This is a fruit class')\n",
    "    \n",
    "    def taste(self):\n",
    "        return('Fruits taste good')\n",
    "        \n",
    "class Banana(Fruit):\n",
    "    def taste(self):\n",
    "        return('Banana is slightly sweet')\n",
    "        \n",
    "class Coconut(Fruit):\n",
    "    def taste(self):\n",
    "        return('Coconut is slightly sweet and has white shell with sweet water inside')\n",
    "        \n",
    "obj_f=Fruit()                \n",
    "obj_b=Banana()\n",
    "obj_c=Coconut()"
   ]
  },
  {
   "cell_type": "code",
   "execution_count": 19,
   "metadata": {},
   "outputs": [
    {
     "data": {
      "text/plain": [
       "'This is a fruit class'"
      ]
     },
     "execution_count": 19,
     "metadata": {},
     "output_type": "execute_result"
    }
   ],
   "source": [
    "obj_f.about()"
   ]
  },
  {
   "cell_type": "code",
   "execution_count": 20,
   "metadata": {},
   "outputs": [
    {
     "data": {
      "text/plain": [
       "'This is a fruit class'"
      ]
     },
     "execution_count": 20,
     "metadata": {},
     "output_type": "execute_result"
    }
   ],
   "source": [
    "obj_b.about()"
   ]
  },
  {
   "cell_type": "code",
   "execution_count": 21,
   "metadata": {},
   "outputs": [
    {
     "data": {
      "text/plain": [
       "'This is a fruit class'"
      ]
     },
     "execution_count": 21,
     "metadata": {},
     "output_type": "execute_result"
    }
   ],
   "source": [
    "obj_c.about()"
   ]
  },
  {
   "cell_type": "code",
   "execution_count": 22,
   "metadata": {},
   "outputs": [
    {
     "name": "stdout",
     "output_type": "stream",
     "text": [
      "Fruits taste good\n",
      "Banana is slightly sweet\n",
      "Coconut is slightly sweet and has white shell with sweet water inside\n"
     ]
    }
   ],
   "source": [
    "print(obj_f.taste())\n",
    "print(obj_b.taste())\n",
    "print(obj_c.taste())"
   ]
  },
  {
   "cell_type": "markdown",
   "metadata": {},
   "source": [
    "#### Polymorphism with a Function and objects"
   ]
  },
  {
   "cell_type": "code",
   "execution_count": 23,
   "metadata": {},
   "outputs": [],
   "source": [
    "def fruiter(obj):\n",
    "    print(obj.taste())\n",
    "    print(obj.about())"
   ]
  },
  {
   "cell_type": "code",
   "execution_count": 24,
   "metadata": {},
   "outputs": [
    {
     "name": "stdout",
     "output_type": "stream",
     "text": [
      "Banana is slightly sweet\n",
      "This is a fruit class\n"
     ]
    }
   ],
   "source": [
    "fruiter(obj_b)"
   ]
  },
  {
   "cell_type": "code",
   "execution_count": 25,
   "metadata": {},
   "outputs": [
    {
     "name": "stdout",
     "output_type": "stream",
     "text": [
      "Coconut is slightly sweet and has white shell with sweet water inside\n",
      "This is a fruit class\n"
     ]
    }
   ],
   "source": [
    "fruiter(obj_c)"
   ]
  },
  {
   "cell_type": "code",
   "execution_count": null,
   "metadata": {},
   "outputs": [],
   "source": []
  }
 ],
 "metadata": {
  "kernelspec": {
   "display_name": "Python 3",
   "language": "python",
   "name": "python3"
  },
  "language_info": {
   "codemirror_mode": {
    "name": "ipython",
    "version": 3
   },
   "file_extension": ".py",
   "mimetype": "text/x-python",
   "name": "python",
   "nbconvert_exporter": "python",
   "pygments_lexer": "ipython3",
   "version": "3.7.1"
  }
 },
 "nbformat": 4,
 "nbformat_minor": 2
}
