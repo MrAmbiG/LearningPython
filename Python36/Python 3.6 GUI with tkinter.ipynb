{
 "cells": [
  {
   "cell_type": "markdown",
   "metadata": {},
   "source": [
    "- Python has a builtin module called tkinter which helps us to make some really good GUI for our tasks.\n",
    "- We will do a simple GUI creation with tkinter\n",
    "- Let us first do our usual exploration of the module with dir(tkinter), help(tkinter) and `tk.__doc__`"
   ]
  },
  {
   "cell_type": "code",
   "execution_count": 1,
   "metadata": {},
   "outputs": [],
   "source": [
    "import tkinter as tk\n",
    "\n",
    "# create a window\n",
    "window = tk.Tk()\n",
    "\n",
    "# start the GUI\n",
    "window.mainloop()"
   ]
  },
  {
   "cell_type": "markdown",
   "metadata": {},
   "source": [
    "`When you run the above code it comes with some nice GUI window. Let us do more. Let us add some label`"
   ]
  },
  {
   "cell_type": "code",
   "execution_count": 8,
   "metadata": {},
   "outputs": [],
   "source": [
    "import tkinter as tk\n",
    "from tkinter import ttk # this is needed to add buttons and labels\n",
    "\n",
    "# create a window\n",
    "window = tk.Tk()\n",
    "window.title('Justice League') # let us give a title to our window\n",
    "window.geometry(\"500x400\") \n",
    "\n",
    "# start the GUI\n",
    "window.mainloop()"
   ]
  },
  {
   "cell_type": "markdown",
   "metadata": {},
   "source": [
    "`Wow, we got the justice league window now but we all know that the justice league contains batman and others. So let us add them up`"
   ]
  },
  {
   "cell_type": "code",
   "execution_count": 15,
   "metadata": {},
   "outputs": [],
   "source": [
    "import tkinter as tk\n",
    "from tkinter import * # this is needed to add buttons and labels\n",
    "\n",
    "\n",
    "# create a window\n",
    "window = tk.Tk()\n",
    "window.title('Justice League') # let us give a title to our window\n",
    "window.geometry(\"500x400\") # \n",
    "\n",
    "# Let us add our members to the window\n",
    "T = tk.Text(window)\n",
    "T.pack()\n",
    "T.insert(tk.END, \"Batman \\nSuperman \\nFlash \\nAquaman \\nWonder woman \\nCyborg\")\n",
    "\n",
    "# Start the GUI event loop\n",
    "window.mainloop()"
   ]
  },
  {
   "cell_type": "markdown",
   "metadata": {},
   "source": [
    "`Okay, we just added some text in a window. We have the member's names in this. Let us limit the area of the text`"
   ]
  },
  {
   "cell_type": "code",
   "execution_count": 10,
   "metadata": {},
   "outputs": [],
   "source": [
    "import tkinter as tk\n",
    "from tkinter import ttk # this is needed to add buttons and labels\n",
    "\n",
    "# create a window\n",
    "window = tk.Tk()\n",
    "window.title('Justice League') # let us give a title to our window\n",
    "window.geometry(\"500x400\") # \n",
    "\n",
    "# Let us add our members to the window\n",
    "T = Text(window, height=10, width=30) # define the area of text\n",
    "T.pack()\n",
    "T.insert(END, \"Batman \\nSuperman \\nFlash \\nAquaman \\nWonder woman \\nCyborg\")\n",
    "\n",
    "# Start the GUI event loop\n",
    "window.mainloop()"
   ]
  },
  {
   "cell_type": "markdown",
   "metadata": {},
   "source": [
    "`This is all good and fine but let us add a button to reveal the identity of our superheroes`"
   ]
  },
  {
   "cell_type": "code",
   "execution_count": 13,
   "metadata": {},
   "outputs": [
    {
     "name": "stdout",
     "output_type": "stream",
     "text": [
      "Batman is Bruce Wayne \n",
      "Superman is Clark Kent \n",
      "Flash is Barry Allen     \n",
      "Aquaman is Arthur Curry \n",
      "Wonder woman is Diana Prince \n",
      "Cyborg is Victor Stone\n"
     ]
    }
   ],
   "source": [
    "import tkinter as tk\n",
    "from tkinter import ttk # this is needed to add buttons and labels\n",
    "\n",
    "# create a window\n",
    "window = tk.Tk()\n",
    "window.title('Justice League') # let us give a title to our window\n",
    "window.geometry(\"500x400\") \n",
    "\n",
    "# Let us add our members to the window\n",
    "T = Text(window, height=10, width=30) # define the area of text\n",
    "T.pack()\n",
    "T.insert(END, \"Batman \\nSuperman \\nFlash \\nAquaman \\nWonder woman \\nCyborg\")\n",
    "\n",
    "# member's real identity\n",
    "def RevealId():\n",
    "    print(\"Batman is Bruce Wayne \\nSuperman is Clark Kent \\nFlash is Barry Allen \\\n",
    "    \\nAquaman is Arthur Curry \\nWonder woman is Diana Prince \\nCyborg is Victor Stone\")\n",
    "\n",
    "# add a button to do some stuff\n",
    "b = Button(text=\"Reveal their identity\", command=RevealId)\n",
    "b.pack()\n",
    "\n",
    "# Start the GUI event loop so that it won't close\n",
    "window.mainloop()"
   ]
  },
  {
   "cell_type": "markdown",
   "metadata": {},
   "source": [
    "`we defined an action with a function. we added a button. We told python/tkinter to run that function when we click that button`"
   ]
  },
  {
   "cell_type": "code",
   "execution_count": null,
   "metadata": {},
   "outputs": [],
   "source": []
  }
 ],
 "metadata": {
  "kernelspec": {
   "display_name": "Python 3",
   "language": "python",
   "name": "python3"
  },
  "language_info": {
   "codemirror_mode": {
    "name": "ipython",
    "version": 3
   },
   "file_extension": ".py",
   "mimetype": "text/x-python",
   "name": "python",
   "nbconvert_exporter": "python",
   "pygments_lexer": "ipython3",
   "version": "3.6.1"
  }
 },
 "nbformat": 4,
 "nbformat_minor": 2
}
