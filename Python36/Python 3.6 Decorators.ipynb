{
 "cells": [
  {
   "cell_type": "code",
   "execution_count": 1,
   "metadata": {},
   "outputs": [
    {
     "name": "stdout",
     "output_type": "stream",
     "text": [
      "==========\n",
      "Batman\n",
      "==========\n"
     ]
    }
   ],
   "source": [
    "def frame(function):     \n",
    "    '''\n",
    "    adds line bars before and after the argument function\n",
    "    '''\n",
    "    def wrapper():\n",
    "        print('==========')\n",
    "        function()\n",
    "        print('==========')\n",
    "    return wrapper\n",
    "\n",
    "\n",
    "@frame\n",
    "def picture():\n",
    "    print(\"Batman\")\n",
    "\n",
    "\n",
    "picture()"
   ]
  },
  {
   "cell_type": "markdown",
   "metadata": {},
   "source": [
    "imagine the picture() as a regular picture  \n",
    "then frame as the frame that you put for your picture to put it on a wall  \n",
    "now the frame did and will not alter the picture, just like in the real world but it does decorate it.  \n",
    "decorators in python have the same concept. They decorate a function. Add value to it and not alter it in any shape or form."
   ]
  },
  {
   "cell_type": "code",
   "execution_count": 2,
   "metadata": {},
   "outputs": [
    {
     "name": "stdout",
     "output_type": "stream",
     "text": [
      "4999950000\n",
      "time it took to run the function: 0.005014657974243164\n"
     ]
    }
   ],
   "source": [
    "import time\n",
    "\n",
    "def timer(function):\n",
    "    '''\n",
    "    time taken to execute a function\n",
    "    '''\n",
    "    \n",
    "    def wrapper():\n",
    "        t1 = time.time()\n",
    "        function()\n",
    "        t2 = time.time()\n",
    "        return \"time it took to run the function: \"+ str(t2-t1)\n",
    "    return wrapper\n",
    "\n",
    "@timer\n",
    "def adder():\n",
    "    n=0\n",
    "    for num in (range(100000)):\n",
    "        n=n+num\n",
    "    print(n)\n",
    "\n",
    "print(adder())"
   ]
  },
  {
   "cell_type": "code",
   "execution_count": null,
   "metadata": {},
   "outputs": [],
   "source": []
  }
 ],
 "metadata": {
  "kernelspec": {
   "display_name": "Python 3",
   "language": "python",
   "name": "python3"
  },
  "language_info": {
   "codemirror_mode": {
    "name": "ipython",
    "version": 3
   },
   "file_extension": ".py",
   "mimetype": "text/x-python",
   "name": "python",
   "nbconvert_exporter": "python",
   "pygments_lexer": "ipython3",
   "version": "3.6.1"
  }
 },
 "nbformat": 4,
 "nbformat_minor": 2
}
