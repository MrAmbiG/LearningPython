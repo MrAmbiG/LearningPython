{
 "cells": [
  {
   "cell_type": "code",
   "execution_count": 1,
   "metadata": {},
   "outputs": [
    {
     "name": "stdout",
     "output_type": "stream",
     "text": [
      "first argument 1\n",
      "2\n",
      "3\n",
      "4\n"
     ]
    }
   ],
   "source": [
    "def arguments(var, *args):\n",
    "    print(f'first argument {var}')\n",
    "    \n",
    "    for arg in args:\n",
    "        print(arg)\n",
    "    \n",
    "    \n",
    "arguments(1,2,3,4)\n",
    "    "
   ]
  },
  {
   "cell_type": "markdown",
   "metadata": {},
   "source": [
    "`as we can see *args represents an arbitrary number of arguments. You can use this when you are not sure about the number of arguments the function has to take or process`"
   ]
  },
  {
   "cell_type": "code",
   "execution_count": 2,
   "metadata": {},
   "outputs": [
    {
     "name": "stdout",
     "output_type": "stream",
     "text": [
      "{'batman': 'rich', 'superman': 'flight', 'flash': 'speed'}\n"
     ]
    }
   ],
   "source": [
    "def arguments(**kwargs):\n",
    "    print(kwargs)\n",
    "    \n",
    "arguments(batman='rich', superman='flight', flash='speed')   "
   ]
  },
  {
   "cell_type": "markdown",
   "metadata": {},
   "source": [
    "`**kwargs takes a named arguments and it treats it like a dictionary`"
   ]
  },
  {
   "cell_type": "code",
   "execution_count": 3,
   "metadata": {
    "scrolled": true
   },
   "outputs": [
    {
     "name": "stdout",
     "output_type": "stream",
     "text": [
      "the super power of batman is rich\n",
      "the super power of superman is flight\n",
      "the super power of flash is speed\n"
     ]
    }
   ],
   "source": [
    "def arguments(**kwargs):\n",
    "    for key,value in kwargs.items():\n",
    "        print(f\"the super power of {key} is {value}\")\n",
    "    \n",
    "arguments(batman='rich', superman='flight', flash='speed')   "
   ]
  },
  {
   "cell_type": "markdown",
   "metadata": {},
   "source": [
    "`In short *args or **kwargs are used to pass variable number of arguments. single * tells python that it is going to be a list of arguments where as ** tells the python that it is going to be like a dictionary, a list of named arguments`"
   ]
  },
  {
   "cell_type": "code",
   "execution_count": null,
   "metadata": {},
   "outputs": [],
   "source": []
  }
 ],
 "metadata": {
  "kernelspec": {
   "display_name": "Python 3",
   "language": "python",
   "name": "python3"
  },
  "language_info": {
   "codemirror_mode": {
    "name": "ipython",
    "version": 3
   },
   "file_extension": ".py",
   "mimetype": "text/x-python",
   "name": "python",
   "nbconvert_exporter": "python",
   "pygments_lexer": "ipython3",
   "version": "3.6.1"
  }
 },
 "nbformat": 4,
 "nbformat_minor": 2
}
