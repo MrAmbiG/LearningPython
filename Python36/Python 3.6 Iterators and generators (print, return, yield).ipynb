{
 "cells": [
  {
   "cell_type": "markdown",
   "metadata": {},
   "source": [
    "Let us study the difference between print, return and yield"
   ]
  },
  {
   "cell_type": "code",
   "execution_count": 4,
   "metadata": {},
   "outputs": [
    {
     "name": "stdout",
     "output_type": "stream",
     "text": [
      "ambi\n"
     ]
    }
   ],
   "source": [
    "print ('ambi')"
   ]
  },
  {
   "cell_type": "code",
   "execution_count": 6,
   "metadata": {
    "scrolled": true
   },
   "outputs": [
    {
     "ename": "SyntaxError",
     "evalue": "'return' outside function (<ipython-input-6-61e3a46b0043>, line 1)",
     "output_type": "error",
     "traceback": [
      "\u001b[1;36m  File \u001b[1;32m\"<ipython-input-6-61e3a46b0043>\"\u001b[1;36m, line \u001b[1;32m1\u001b[0m\n\u001b[1;33m    return ('ambi')\u001b[0m\n\u001b[1;37m                   ^\u001b[0m\n\u001b[1;31mSyntaxError\u001b[0m\u001b[1;31m:\u001b[0m 'return' outside function\n"
     ]
    }
   ],
   "source": [
    "return ('ambi')"
   ]
  },
  {
   "cell_type": "code",
   "execution_count": 7,
   "metadata": {},
   "outputs": [
    {
     "ename": "SyntaxError",
     "evalue": "'yield' outside function (<ipython-input-7-d47b0e0fdb17>, line 1)",
     "output_type": "error",
     "traceback": [
      "\u001b[1;36m  File \u001b[1;32m\"<ipython-input-7-d47b0e0fdb17>\"\u001b[1;36m, line \u001b[1;32m1\u001b[0m\n\u001b[1;33m    yield ('ambi')\u001b[0m\n\u001b[1;37m                  ^\u001b[0m\n\u001b[1;31mSyntaxError\u001b[0m\u001b[1;31m:\u001b[0m 'yield' outside function\n"
     ]
    }
   ],
   "source": [
    "yield ('ambi')"
   ]
  },
  {
   "cell_type": "markdown",
   "metadata": {},
   "source": [
    "`It is clear that we cannot use return or yield in place print; and the error clearly informs us that return and yield are meant to be used inside a function`"
   ]
  },
  {
   "cell_type": "code",
   "execution_count": 34,
   "metadata": {},
   "outputs": [
    {
     "name": "stdout",
     "output_type": "stream",
     "text": [
      "0\n",
      "1\n",
      "2\n",
      "3\n",
      "4\n",
      "5\n"
     ]
    }
   ],
   "source": [
    "def display(numbers):\n",
    "    for num in numbers:\n",
    "        print (num)\n",
    "        \n",
    "display(range(6))"
   ]
  },
  {
   "cell_type": "markdown",
   "metadata": {},
   "source": [
    "Let us replace print with return"
   ]
  },
  {
   "cell_type": "code",
   "execution_count": 35,
   "metadata": {},
   "outputs": [
    {
     "data": {
      "text/plain": [
       "0"
      ]
     },
     "execution_count": 35,
     "metadata": {},
     "output_type": "execute_result"
    }
   ],
   "source": [
    "def display(numbers):\n",
    "    for num in numbers:\n",
    "        return (num)\n",
    "        \n",
    "display(range(6))"
   ]
  },
  {
   "cell_type": "markdown",
   "metadata": {},
   "source": [
    "`We see that if we use return instead of print it only runs once and returns p but stops after that. It shows that return is not meant for tasks like this.'  \n",
    "Below are observations  \n",
    ">print is most suitable for displaying the results  \n",
    ">print is most suitable for loops  \n",
    ">A return is the end of a codeblock within an indentation, hence whatever after that is neglected or ignored  \n",
    ">range(6) was an iterator. Anything where you can do \"for .... in....\" is an iterator  "
   ]
  },
  {
   "cell_type": "code",
   "execution_count": 36,
   "metadata": {},
   "outputs": [
    {
     "data": {
      "text/plain": [
       "<generator object display at 0x000001FF6CEF7468>"
      ]
     },
     "execution_count": 36,
     "metadata": {},
     "output_type": "execute_result"
    }
   ],
   "source": [
    "def display(numbers):\n",
    "    for num in numbers:\n",
    "        yield (num)\n",
    "        \n",
    "display(range(6))"
   ]
  },
  {
   "cell_type": "markdown",
   "metadata": {},
   "source": [
    "well something doesnt seems right? "
   ]
  },
  {
   "cell_type": "code",
   "execution_count": 37,
   "metadata": {},
   "outputs": [
    {
     "name": "stdout",
     "output_type": "stream",
     "text": [
      "<generator object display at 0x000001FF6CEF7938>\n",
      "0\n"
     ]
    }
   ],
   "source": [
    "def display(numbers):\n",
    "    for num in numbers:\n",
    "        yield (num)\n",
    "        \n",
    "a = display(range(6))\n",
    "print(a)\n",
    "print(next(a))"
   ]
  },
  {
   "cell_type": "markdown",
   "metadata": {},
   "source": [
    "print(a) did not do anything that we wanted but print (next(a)) did print out the 1st item in the list of letters. Let us display all the results then."
   ]
  },
  {
   "cell_type": "code",
   "execution_count": 38,
   "metadata": {},
   "outputs": [
    {
     "name": "stdout",
     "output_type": "stream",
     "text": [
      "0\n",
      "1\n",
      "2\n",
      "3\n",
      "4\n",
      "5\n"
     ]
    }
   ],
   "source": [
    "def display(numbers):\n",
    "    for num in numbers:\n",
    "        yield (num)\n",
    "        \n",
    "a = display(range(6))\n",
    "print(next(a))\n",
    "print(next(a))\n",
    "print(next(a))\n",
    "print(next(a))\n",
    "print(next(a))\n",
    "print(next(a))"
   ]
  },
  {
   "cell_type": "markdown",
   "metadata": {},
   "source": [
    "okay what if i try to print more times than the number of numbers in range(6)?"
   ]
  },
  {
   "cell_type": "raw",
   "metadata": {},
   "source": []
  },
  {
   "cell_type": "code",
   "execution_count": 39,
   "metadata": {},
   "outputs": [
    {
     "name": "stdout",
     "output_type": "stream",
     "text": [
      "0\n",
      "1\n",
      "2\n",
      "3\n",
      "4\n",
      "5\n"
     ]
    },
    {
     "ename": "StopIteration",
     "evalue": "",
     "output_type": "error",
     "traceback": [
      "\u001b[1;31m---------------------------------------------------------------------------\u001b[0m",
      "\u001b[1;31mStopIteration\u001b[0m                             Traceback (most recent call last)",
      "\u001b[1;32m<ipython-input-39-3a9c984c7e70>\u001b[0m in \u001b[0;36m<module>\u001b[1;34m()\u001b[0m\n\u001b[0;32m     10\u001b[0m \u001b[0mprint\u001b[0m\u001b[1;33m(\u001b[0m\u001b[0mnext\u001b[0m\u001b[1;33m(\u001b[0m\u001b[0ma\u001b[0m\u001b[1;33m)\u001b[0m\u001b[1;33m)\u001b[0m\u001b[1;33m\u001b[0m\u001b[0m\n\u001b[0;32m     11\u001b[0m \u001b[0mprint\u001b[0m\u001b[1;33m(\u001b[0m\u001b[0mnext\u001b[0m\u001b[1;33m(\u001b[0m\u001b[0ma\u001b[0m\u001b[1;33m)\u001b[0m\u001b[1;33m)\u001b[0m\u001b[1;33m\u001b[0m\u001b[0m\n\u001b[1;32m---> 12\u001b[1;33m \u001b[0mprint\u001b[0m\u001b[1;33m(\u001b[0m\u001b[0mnext\u001b[0m\u001b[1;33m(\u001b[0m\u001b[0ma\u001b[0m\u001b[1;33m)\u001b[0m\u001b[1;33m)\u001b[0m\u001b[1;33m\u001b[0m\u001b[0m\n\u001b[0m",
      "\u001b[1;31mStopIteration\u001b[0m: "
     ]
    }
   ],
   "source": [
    "def display(numbers):\n",
    "    for num in numbers:\n",
    "        yield (num)\n",
    "        \n",
    "a = display(range(6))\n",
    "print(next(a))\n",
    "print(next(a))\n",
    "print(next(a))\n",
    "print(next(a))\n",
    "print(next(a))\n",
    "print(next(a))\n",
    "print(next(a))"
   ]
  },
  {
   "cell_type": "markdown",
   "metadata": {},
   "source": [
    "Alright then so we did seems to understand what yield does. Yield is called a generator. It generates numbers from a list but only one at a time. This is very important since the memory footprint of this is only as big as one element of the list. This is especially useful if you are dealing with a huge list and you want to use the least amount of resources and get the most done.\n",
    ">yield is a generator   \n",
    ">generator won't run the entire body of the code but only till they hit the 1st point or item in the list and when they do, they return it, forget about it and stop  \n",
    ">Generators are a kind of iterators but you can use each item in them only once and once you do, they are forgotten  \n",
    ">generators unlike iterators do not create and store all values in memory but they generate when they are needed, on the fly  \n",
    "Let us look at another example to differentiate between return and yield\n"
   ]
  },
  {
   "cell_type": "code",
   "execution_count": 41,
   "metadata": {},
   "outputs": [
    {
     "data": {
      "text/plain": [
       "0"
      ]
     },
     "execution_count": 41,
     "metadata": {},
     "output_type": "execute_result"
    }
   ],
   "source": [
    "def nums(n):\n",
    "    for i in range(n):\n",
    "        return i\n",
    "    \n",
    "nums(5)"
   ]
  },
  {
   "cell_type": "markdown",
   "metadata": {},
   "source": [
    "The return statement from the nums function gave us only the 1st number and it stopped where as we know that the the number range of 5 contains numbers from 0 to 5."
   ]
  },
  {
   "cell_type": "code",
   "execution_count": 42,
   "metadata": {},
   "outputs": [
    {
     "data": {
      "text/plain": [
       "<generator object nums at 0x000001FF6CF3F0F8>"
      ]
     },
     "execution_count": 42,
     "metadata": {},
     "output_type": "execute_result"
    }
   ],
   "source": [
    "def nums(n):\n",
    "    for i in range(n):\n",
    "        yield i\n",
    "    \n",
    "nums(5)"
   ]
  },
  {
   "cell_type": "code",
   "execution_count": 43,
   "metadata": {},
   "outputs": [
    {
     "data": {
      "text/plain": [
       "[0, 1, 2, 3, 4]"
      ]
     },
     "execution_count": 43,
     "metadata": {},
     "output_type": "execute_result"
    }
   ],
   "source": [
    "def nums(n):\n",
    "    for i in range(n):\n",
    "        yield i\n",
    "    \n",
    "list(nums(5))"
   ]
  },
  {
   "cell_type": "markdown",
   "metadata": {},
   "source": [
    "Just asking nums(5) didnt give the results we wanted but asking a list(nums(5)); that is we asked the generator to give us a list of nums(5) and it did.\n",
    "> - return runs once and stops  \n",
    "> - yield runs as many times as you have planned till it hits the end  \n",
    "So in short  \n",
    "> - print gives all of the values (and remembers them) \n",
    "> - return gives the 1st value (and remembers them)\n",
    "> - yield gives them one at a time as and when you ask (and forgets them after it delivers)\n",
    "> - a list is an iterable which you can reuse\n",
    "> - a generator is an iterable which you can use once\n",
    "> - next time when a function with yield is called it continues from where it left"
   ]
  },
  {
   "cell_type": "markdown",
   "metadata": {},
   "source": [
    "Let us say you have an operation where creating a list will take up 500mb of memory so what you do is you intead use yield where it only generates the 1st number, delivers it to you, forgets about it and stops. When you call it again it generates the next number, delivers it to you, forgets it and stops. So every time you wake it up or call it it does the same. This results in saving of a lot of resources."
   ]
  },
  {
   "cell_type": "code",
   "execution_count": 58,
   "metadata": {},
   "outputs": [
    {
     "name": "stdout",
     "output_type": "stream",
     "text": [
      "0\n",
      "1\n",
      "2\n",
      "3\n",
      "4\n"
     ]
    }
   ],
   "source": [
    "def gen():\n",
    "    for number in range(5):\n",
    "        yield number\n",
    "        \n",
    "for i in gen():\n",
    "    print(i)"
   ]
  }
 ],
 "metadata": {
  "kernelspec": {
   "display_name": "Python 3",
   "language": "python",
   "name": "python3"
  },
  "language_info": {
   "codemirror_mode": {
    "name": "ipython",
    "version": 3
   },
   "file_extension": ".py",
   "mimetype": "text/x-python",
   "name": "python",
   "nbconvert_exporter": "python",
   "pygments_lexer": "ipython3",
   "version": "3.6.1"
  }
 },
 "nbformat": 4,
 "nbformat_minor": 2
}
