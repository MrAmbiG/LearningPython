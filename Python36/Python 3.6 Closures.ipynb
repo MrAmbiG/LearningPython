{
 "cells": [
  {
   "cell_type": "code",
   "execution_count": 1,
   "metadata": {},
   "outputs": [],
   "source": [
    "def outer(name):\n",
    "    text = f\"namaste {name}\"\n",
    " \n",
    "    def inner():\n",
    "       print(text)     \n",
    "    inner() # we are calling/printing the inner function\n",
    " \n",
    "outer('ambi')"
   ]
  },
  {
   "cell_type": "markdown",
   "metadata": {},
   "source": [
    "`above is an example of a nested function; you call the outer function, the outer function runs the inner function and finally get the output`  \n",
    "`let us now replace the inner() with return inner and see what happens`"
   ]
  },
  {
   "cell_type": "code",
   "execution_count": 2,
   "metadata": {},
   "outputs": [],
   "source": [
    "def outer(name):\n",
    "    text = f\"namaste {name}\"\n",
    " \n",
    "    def inner():\n",
    "        print(text) \n",
    "    return inner # we are returning the inner function instead of calling/printing it\n",
    "\n",
    "outer('ambi')"
   ]
  },
  {
   "cell_type": "markdown",
   "metadata": {},
   "source": [
    "`you now see that it returns the inner function instead of printing the output of the inner`"
   ]
  },
  {
   "cell_type": "code",
   "execution_count": 3,
   "metadata": {},
   "outputs": [],
   "source": [
    "def outer(name):\n",
    "    text = f\"namaste {name}\"\n",
    " \n",
    "    def inner():\n",
    "        print(text) \n",
    "    return inner # we are returning the inner function instead of calling/printing it\n",
    "\n",
    "a = outer('ambi')\n",
    "a()"
   ]
  },
  {
   "cell_type": "markdown",
   "metadata": {},
   "source": [
    "`Now you notice that by adding () to the outer('ambi') got us the result we wanted. The above is the same as the one below`"
   ]
  },
  {
   "cell_type": "code",
   "execution_count": 7,
   "metadata": {},
   "outputs": [
    {
     "name": "stdout",
     "output_type": "stream",
     "text": [
      "namaste ambi\n"
     ]
    }
   ],
   "source": [
    "def outer(name):\n",
    "    text = f\"namaste {name}\"\n",
    " \n",
    "    def inner():\n",
    "        print(text) \n",
    "    return inner # we are returning the inner function instead of calling/printing it\n",
    "\n",
    "outer('ambi')()"
   ]
  },
  {
   "cell_type": "markdown",
   "metadata": {},
   "source": [
    "`\n",
    "So, closures help us access a function outside their scope. Function inner() has its scope only inside outer(name) function but closures allow us to extend the scope of inner() outside it's normal scope.\n",
    "Sometimes we want a function to retain a value when it was created even though the scope cease to exist.\n",
    "when you have fewer functions then go for closures, else go with class(OOP)\n",
    "`"
   ]
  },
  {
   "cell_type": "code",
   "execution_count": 6,
   "metadata": {},
   "outputs": [],
   "source": [
    "del outer"
   ]
  },
  {
   "cell_type": "code",
   "execution_count": 9,
   "metadata": {},
   "outputs": [
    {
     "name": "stdout",
     "output_type": "stream",
     "text": [
      "namaste ambi\n"
     ]
    }
   ],
   "source": [
    "a()"
   ]
  },
  {
   "cell_type": "markdown",
   "metadata": {},
   "source": [
    "`we notice that even the parent function outer is deleted the a() was still able to call it's child function inner()`"
   ]
  },
  {
   "cell_type": "code",
   "execution_count": 12,
   "metadata": {},
   "outputs": [],
   "source": [
    "def raiser(n):\n",
    "    def power(x):\n",
    "        return n**x\n",
    "    return power"
   ]
  },
  {
   "cell_type": "code",
   "execution_count": 13,
   "metadata": {},
   "outputs": [
    {
     "name": "stdout",
     "output_type": "stream",
     "text": [
      "<function raiser.<locals>.power at 0x00000206470FAC80>\n"
     ]
    }
   ],
   "source": [
    "a = raiser(2)\n",
    "print(a)"
   ]
  },
  {
   "cell_type": "code",
   "execution_count": 14,
   "metadata": {},
   "outputs": [
    {
     "name": "stdout",
     "output_type": "stream",
     "text": [
      "4\n"
     ]
    }
   ],
   "source": [
    "print(a(2))"
   ]
  },
  {
   "cell_type": "code",
   "execution_count": 17,
   "metadata": {},
   "outputs": [],
   "source": [
    "b = raiser(3)(2)"
   ]
  },
  {
   "cell_type": "code",
   "execution_count": 19,
   "metadata": {},
   "outputs": [
    {
     "name": "stdout",
     "output_type": "stream",
     "text": [
      "9\n"
     ]
    }
   ],
   "source": [
    "print(b)"
   ]
  },
  {
   "cell_type": "code",
   "execution_count": 23,
   "metadata": {},
   "outputs": [
    {
     "name": "stdout",
     "output_type": "stream",
     "text": [
      "243\n"
     ]
    }
   ],
   "source": [
    "b = raiser(3)(5)\n",
    "print(b)"
   ]
  },
  {
   "cell_type": "code",
   "execution_count": 24,
   "metadata": {},
   "outputs": [
    {
     "name": "stdout",
     "output_type": "stream",
     "text": [
      "27\n"
     ]
    }
   ],
   "source": [
    "print(raiser(3)(3))"
   ]
  },
  {
   "cell_type": "markdown",
   "metadata": {},
   "source": [
    "other resources  \n",
    "(https://www.learnpython.org/en/Closures)  \n",
    "(https://www.programiz.com/python-programming/closure)  \n",
    "(http://www.geeksforgeeks.org/python-closures/)  \n",
    "(http://www.bogotobogo.com/python/python_closure.php)  \n",
    "(https://www.youtube.com/watch?v=swU3c34d2NQ)  "
   ]
  },
  {
   "cell_type": "code",
   "execution_count": null,
   "metadata": {},
   "outputs": [],
   "source": []
  }
 ],
 "metadata": {
  "kernelspec": {
   "display_name": "Python 3",
   "language": "python",
   "name": "python3"
  },
  "language_info": {
   "codemirror_mode": {
    "name": "ipython",
    "version": 3
   },
   "file_extension": ".py",
   "mimetype": "text/x-python",
   "name": "python",
   "nbconvert_exporter": "python",
   "pygments_lexer": "ipython3",
   "version": "3.6.1"
  }
 },
 "nbformat": 4,
 "nbformat_minor": 2
}
