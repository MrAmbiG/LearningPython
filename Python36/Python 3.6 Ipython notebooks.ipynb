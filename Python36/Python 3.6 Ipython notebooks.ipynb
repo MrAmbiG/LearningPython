{
 "cells": [
  {
   "cell_type": "markdown",
   "metadata": {
    "collapsed": true
   },
   "source": [
    "**Ipython or jupyter notebook**\n",
    "\n",
    "Ipython stands for interactive python. Jupyter notebook is an extension of that and a lot more. Unlike a regular python console or shell or Ide you can interact with the code here. You can see how a slight change in code or parameter will affect the output. You can visualize the code and selectively run code. Easiest way to get it is via pip\n",
    "\n",
    ">> Pip install jupyter\n",
    "\n",
    "If you have anaconda bundle of python installed then you can launch the anaconda navigator and choose to run either jupyter notebook or jupyter lab. There is a change in jupyter lab and notebook's interface but the end game is still the same."
   ]
  },
  {
   "cell_type": "code",
   "execution_count": 1,
   "metadata": {},
   "outputs": [
    {
     "name": "stdout",
     "output_type": "stream",
     "text": [
      "batman forever\n"
     ]
    }
   ],
   "source": [
    "print('batman forever')"
   ]
  },
  {
   "cell_type": "markdown",
   "metadata": {
    "collapsed": true
   },
   "source": [
    "I just typed a bit of code and hit ctrl+enter to run the code. You can now see the code and output in the same cell."
   ]
  },
  {
   "cell_type": "code",
   "execution_count": 2,
   "metadata": {},
   "outputs": [
    {
     "name": "stdout",
     "output_type": "stream",
     "text": [
      "dark knights:metal\n"
     ]
    }
   ],
   "source": [
    "print('dark knights:metal')"
   ]
  },
  {
   "cell_type": "markdown",
   "metadata": {
    "collapsed": true
   },
   "source": [
    "You can now see that each block of code has a number. I can go back and run the 1st or 2nd cell, edit them and run them again. This is what I meant by interactive python. Let us see another ability of jupyter notebook. data visualization. There are something called magic commands. They are nothing but commands which makes certain OS features accessible within your notebook. The one that we are interested is %matplotlib inline. Here %matplotlib means it will allow us to use the matplotlib library. Inline means it will allow us to embed the data visualization part within the notebook and not as a pop up."
   ]
  },
  {
   "cell_type": "code",
   "execution_count": 11,
   "metadata": {
    "scrolled": true
   },
   "outputs": [
    {
     "data": {
      "image/png": "[encoded data removed]",
      "text/plain": [
       "<matplotlib.figure.Figure at 0x2927b73def0>"
      ]
     },
     "metadata": {},
     "output_type": "display_data"
    }
   ],
   "source": [
    "%matplotlib inline\n",
    "\n",
    "import matplotlib\n",
    "import numpy as np\n",
    "import matplotlib.pyplot as plt\n",
    "plt.plot([1,2,3,4])\n",
    "plt.ylabel('This is y axis')\n",
    "plt.xlabel('This is x axis')\n",
    "plt.show()"
   ]
  },
  {
   "cell_type": "markdown",
   "metadata": {},
   "source": [
    "If you rerun a cell the cell number increases per execution. Try hitting ctrl+enter few times in a cell with code and you will notice this."
   ]
  },
  {
   "cell_type": "markdown",
   "metadata": {},
   "source": [
    "if you too want to enter some notes and make them display above or below your code then type whatever you want in a cell, cell>cell type>makr down. Then hit shift enter to save and continue on a new cell."
   ]
  }
 ],
 "metadata": {
  "kernelspec": {
   "display_name": "Python 3",
   "language": "python",
   "name": "python3"
  },
  "language_info": {
   "codemirror_mode": {
    "name": "ipython",
    "version": 3
   },
   "file_extension": ".py",
   "mimetype": "text/x-python",
   "name": "python",
   "nbconvert_exporter": "python",
   "pygments_lexer": "ipython3",
   "version": "3.6.1"
  }
 },
 "nbformat": 4,
 "nbformat_minor": 2
}
