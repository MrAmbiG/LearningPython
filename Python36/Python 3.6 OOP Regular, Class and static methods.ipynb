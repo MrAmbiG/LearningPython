{
 "cells": [
  {
   "cell_type": "markdown",
   "metadata": {},
   "source": [
    "***Regular Method*** "
   ]
  },
  {
   "cell_type": "code",
   "execution_count": 34,
   "metadata": {},
   "outputs": [],
   "source": [
    "class superhero:\n",
    "    publications = 'DC'\n",
    "    def __init__(self, name, power, origin):\n",
    "        self.name = name\n",
    "        self.power = power\n",
    "        self.origin = origin\n",
    "        \n",
    "    def regularMethod(self): # this method takes self as argument and uses self in it's body\n",
    "         return ('name :{} superpower: {} origin: {}  comics: {}'.format(self.name, self.power, self.origin, self.publications))"
   ]
  },
  {
   "cell_type": "code",
   "execution_count": 35,
   "metadata": {},
   "outputs": [
    {
     "data": {
      "text/plain": [
       "'name :superman superpower: flight origin: krypton  comics: DC'"
      ]
     },
     "execution_count": 35,
     "metadata": {},
     "output_type": "execute_result"
    }
   ],
   "source": [
    "hero1 = superhero('superman', 'flight', 'krypton')\n",
    "hero1.regularMethod()"
   ]
  },
  {
   "cell_type": "code",
   "execution_count": 40,
   "metadata": {},
   "outputs": [],
   "source": [
    "class superhero:\n",
    "    publications = 'DC'\n",
    "    def __init__(self, name, power, origin):\n",
    "        self.name = name\n",
    "        self.power = power\n",
    "        self.origin = origin\n",
    "        \n",
    "    def regularMethod(self): # this method takes self as argument and uses self in it's body\n",
    "         return ('name :{} superpower: {} origin: {}  comics: {}'.format(self.name, self.power, self.origin, self.publications))\n",
    "        \n",
    "    @classmethod\n",
    "    def changePub(cls, someVariable): # takes class as an argument and uses it in it's body        \n",
    "        cls.publications = someVariable"
   ]
  },
  {
   "cell_type": "code",
   "execution_count": 41,
   "metadata": {},
   "outputs": [
    {
     "data": {
      "text/plain": [
       "'name :batman superpower: rich origin: earth  comics: DC'"
      ]
     },
     "execution_count": 41,
     "metadata": {},
     "output_type": "execute_result"
    }
   ],
   "source": [
    "hero2 = superhero('batman', 'rich', 'earth')\n",
    "hero2.regularMethod()"
   ]
  },
  {
   "cell_type": "code",
   "execution_count": 42,
   "metadata": {},
   "outputs": [
    {
     "data": {
      "text/plain": [
       "'name :batman superpower: rich origin: earth  comics: marvel'"
      ]
     },
     "execution_count": 42,
     "metadata": {},
     "output_type": "execute_result"
    }
   ],
   "source": [
    "superhero.changePub('marvel')\n",
    "hero2.regularMethod()"
   ]
  },
  {
   "cell_type": "code",
   "execution_count": 43,
   "metadata": {},
   "outputs": [
    {
     "data": {
      "text/plain": [
       "'name :flash superpower: speed origin: earth  comics: marvel'"
      ]
     },
     "execution_count": 43,
     "metadata": {},
     "output_type": "execute_result"
    }
   ],
   "source": [
    "hero3 = superhero('flash', 'speed', 'earth')\n",
    "hero3.regularMethod()"
   ]
  },
  {
   "cell_type": "code",
   "execution_count": 44,
   "metadata": {},
   "outputs": [],
   "source": [
    "class superhero:\n",
    "    publications = 'DC'\n",
    "    def __init__(self, name, power, origin):\n",
    "        self.name = name\n",
    "        self.power = power\n",
    "        self.origin = origin\n",
    "        \n",
    "    def regularMethod(self): # accessing and using self (instance)\n",
    "         return ('name :{} superpower: {} origin: {}  comics: {}'.format(self.name, self.power, self.origin, self.publications))\n",
    "        \n",
    "    @classmethod\n",
    "    def changePub(cls, someVariable): # accessing and using class (Cls)        \n",
    "        cls.publications = someVariable\n",
    "        \n",
    "    @staticmethod\n",
    "    def gang(): # doesn't depend on any instance or class or class variable\n",
    "        return 'all these heroes are for justice'"
   ]
  },
  {
   "cell_type": "code",
   "execution_count": 47,
   "metadata": {},
   "outputs": [
    {
     "data": {
      "text/plain": [
       "'all these heroes are for justice'"
      ]
     },
     "execution_count": 47,
     "metadata": {},
     "output_type": "execute_result"
    }
   ],
   "source": [
    "superhero.gang()"
   ]
  },
  {
   "cell_type": "code",
   "execution_count": null,
   "metadata": {},
   "outputs": [],
   "source": []
  }
 ],
 "metadata": {
  "kernelspec": {
   "display_name": "Python 3",
   "language": "python",
   "name": "python3"
  },
  "language_info": {
   "codemirror_mode": {
    "name": "ipython",
    "version": 3
   },
   "file_extension": ".py",
   "mimetype": "text/x-python",
   "name": "python",
   "nbconvert_exporter": "python",
   "pygments_lexer": "ipython3",
   "version": "3.6.1"
  }
 },
 "nbformat": 4,
 "nbformat_minor": 2
}
